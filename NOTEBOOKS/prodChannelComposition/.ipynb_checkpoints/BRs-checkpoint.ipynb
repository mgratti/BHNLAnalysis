{
 "cells": [
  {
   "cell_type": "markdown",
   "id": "a5d36199-8f67-4c97-aa57-c151352c6ed3",
   "metadata": {},
   "source": [
    "## B $\\to$ N $\\mu$ X, channel composition for different masses"
   ]
  },
  {
   "cell_type": "code",
   "execution_count": 64,
   "id": "1182a562-7209-4f9a-8dde-707a62034187",
   "metadata": {},
   "outputs": [],
   "source": [
    "import numpy as np\n",
    "import pandas as pd\n",
    "from matplotlib import pyplot as plt"
   ]
  },
  {
   "cell_type": "code",
   "execution_count": 150,
   "id": "1c28bf28-dba5-4552-91cb-be58d50f55d4",
   "metadata": {},
   "outputs": [
    {
     "data": {
      "text/html": [
       "<div>\n",
       "<style scoped>\n",
       "    .dataframe tbody tr th:only-of-type {\n",
       "        vertical-align: middle;\n",
       "    }\n",
       "\n",
       "    .dataframe tbody tr th {\n",
       "        vertical-align: top;\n",
       "    }\n",
       "\n",
       "    .dataframe thead th {\n",
       "        text-align: right;\n",
       "    }\n",
       "</style>\n",
       "<table border=\"1\" class=\"dataframe\">\n",
       "  <thead>\n",
       "    <tr style=\"text-align: right;\">\n",
       "      <th></th>\n",
       "      <th>mass</th>\n",
       "      <th>Bspec</th>\n",
       "      <th>BR</th>\n",
       "      <th>norm</th>\n",
       "      <th>channel</th>\n",
       "      <th>BR_norm</th>\n",
       "    </tr>\n",
       "  </thead>\n",
       "  <tbody>\n",
       "    <tr>\n",
       "      <th>0</th>\n",
       "      <td>1.0</td>\n",
       "      <td>B+</td>\n",
       "      <td>0.039195</td>\n",
       "      <td>58.584722</td>\n",
       "      <td>lep</td>\n",
       "      <td>0.000669</td>\n",
       "    </tr>\n",
       "    <tr>\n",
       "      <th>1</th>\n",
       "      <td>1.0</td>\n",
       "      <td>B+</td>\n",
       "      <td>17.852006</td>\n",
       "      <td>58.584722</td>\n",
       "      <td>anti-D0</td>\n",
       "      <td>0.304721</td>\n",
       "    </tr>\n",
       "    <tr>\n",
       "      <th>2</th>\n",
       "      <td>1.0</td>\n",
       "      <td>B+</td>\n",
       "      <td>40.485310</td>\n",
       "      <td>58.584722</td>\n",
       "      <td>anti-D*0</td>\n",
       "      <td>0.691056</td>\n",
       "    </tr>\n",
       "    <tr>\n",
       "      <th>3</th>\n",
       "      <td>1.0</td>\n",
       "      <td>B+</td>\n",
       "      <td>0.056536</td>\n",
       "      <td>58.584722</td>\n",
       "      <td>pi0</td>\n",
       "      <td>0.000965</td>\n",
       "    </tr>\n",
       "    <tr>\n",
       "      <th>4</th>\n",
       "      <td>1.0</td>\n",
       "      <td>B+</td>\n",
       "      <td>0.151673</td>\n",
       "      <td>58.584722</td>\n",
       "      <td>rho0</td>\n",
       "      <td>0.002589</td>\n",
       "    </tr>\n",
       "    <tr>\n",
       "      <th>...</th>\n",
       "      <td>...</td>\n",
       "      <td>...</td>\n",
       "      <td>...</td>\n",
       "      <td>...</td>\n",
       "      <td>...</td>\n",
       "      <td>...</td>\n",
       "    </tr>\n",
       "    <tr>\n",
       "      <th>8</th>\n",
       "      <td>4.5</td>\n",
       "      <td>B0</td>\n",
       "      <td>0.000000</td>\n",
       "      <td>0.001369</td>\n",
       "      <td>rho-</td>\n",
       "      <td>0.000000</td>\n",
       "    </tr>\n",
       "    <tr>\n",
       "      <th>9</th>\n",
       "      <td>4.5</td>\n",
       "      <td>B0s</td>\n",
       "      <td>0.000000</td>\n",
       "      <td>0.000269</td>\n",
       "      <td>D_s-</td>\n",
       "      <td>0.000000</td>\n",
       "    </tr>\n",
       "    <tr>\n",
       "      <th>10</th>\n",
       "      <td>4.5</td>\n",
       "      <td>B0s</td>\n",
       "      <td>0.000000</td>\n",
       "      <td>0.000269</td>\n",
       "      <td>D_s*-</td>\n",
       "      <td>0.000000</td>\n",
       "    </tr>\n",
       "    <tr>\n",
       "      <th>11</th>\n",
       "      <td>4.5</td>\n",
       "      <td>B0s</td>\n",
       "      <td>0.000269</td>\n",
       "      <td>0.000269</td>\n",
       "      <td>K-</td>\n",
       "      <td>1.000000</td>\n",
       "    </tr>\n",
       "    <tr>\n",
       "      <th>12</th>\n",
       "      <td>4.5</td>\n",
       "      <td>B0s</td>\n",
       "      <td>0.000000</td>\n",
       "      <td>0.000269</td>\n",
       "      <td>K*-</td>\n",
       "      <td>0.000000</td>\n",
       "    </tr>\n",
       "  </tbody>\n",
       "</table>\n",
       "<p>65 rows × 6 columns</p>\n",
       "</div>"
      ],
      "text/plain": [
       "    mass Bspec         BR       norm   channel   BR_norm\n",
       "0    1.0    B+   0.039195  58.584722       lep  0.000669\n",
       "1    1.0    B+  17.852006  58.584722   anti-D0  0.304721\n",
       "2    1.0    B+  40.485310  58.584722  anti-D*0  0.691056\n",
       "3    1.0    B+   0.056536  58.584722       pi0  0.000965\n",
       "4    1.0    B+   0.151673  58.584722      rho0  0.002589\n",
       "..   ...   ...        ...        ...       ...       ...\n",
       "8    4.5    B0   0.000000   0.001369      rho-  0.000000\n",
       "9    4.5   B0s   0.000000   0.000269      D_s-  0.000000\n",
       "10   4.5   B0s   0.000000   0.000269     D_s*-  0.000000\n",
       "11   4.5   B0s   0.000269   0.000269        K-  1.000000\n",
       "12   4.5   B0s   0.000000   0.000269       K*-  0.000000\n",
       "\n",
       "[65 rows x 6 columns]"
      ]
     },
     "execution_count": 150,
     "metadata": {},
     "output_type": "execute_result"
    }
   ],
   "source": [
    "dfs = []\n",
    "for mass in [1,1.5,2,3,4.5]:\n",
    "  df = pd.read_csv('BR_mass{}.csv'.format(mass),delimiter='\\t')\n",
    "  mass_val = np.ones(13)*mass\n",
    "  #print(mass_val)\n",
    "  df.insert(0, \"mass\", mass_val, True)\n",
    "  #print(df)\n",
    "  \n",
    "  br_sums = [] \n",
    "  br_sums_vecs = []\n",
    "  sizes = [5,4,4]\n",
    "  for i,spec in enumerate(['B+','B0','B0s']):\n",
    "    br_sums.append(  df[ df['Bspec'] == spec ].BR.sum() )\n",
    "    #print(br_sums[i])\n",
    "    br_sums_vecs.append( np.ones(sizes[i])* br_sums[i] )\n",
    "    #df_B = df[df['Bspec'] == spec ]\n",
    "    #df_B.BR_norm = df_B.BR / df_B.BR.sum()\n",
    "  \n",
    "  norm_val = np.hstack(br_sums_vecs)\n",
    "  df.insert(3, 'norm', norm_val, True)\n",
    "  df['BR_norm'] = df['BR']/df['norm']\n",
    "  #df.insert(4, 'BR_norm', BR/norm, True)\n",
    "  dfs.append(df)\n",
    "conc_dfs = pd.concat(dfs)\n",
    "conc_dfs"
   ]
  },
  {
   "cell_type": "code",
   "execution_count": 156,
   "id": "dae26df6-3563-4415-bf46-6b65dd7220af",
   "metadata": {},
   "outputs": [],
   "source": [
    "# divide by B species\n",
    "dfs_B = {}\n",
    "for bspec in ['B+','B0','B0s']:\n",
    "  mydf = conc_dfs[conc_dfs['Bspec']==bspec]\n",
    "  #print (mydf)\n",
    "  #mydf.insert(3, 'BR_norm', )\n",
    "  \n",
    "  my_pivot_df = mydf.pivot(index=\"mass\", columns=\"channel\", values=\"BR_norm\")\n",
    "  dfs_B[bspec] = my_pivot_df\n",
    "  #dfs_B[bspec].insert(3, 'BR_norm', dfs_B[bspec].)\n",
    "  #print(dfs_B[bspec])"
   ]
  },
  {
   "cell_type": "code",
   "execution_count": 159,
   "id": "d1fdfa47-5f74-49d4-8f6b-e66965980cc8",
   "metadata": {},
   "outputs": [
    {
     "data": {
      "image/png": "[encoded data removed]",
      "text/plain": [
       "<Figure size 432x288 with 1 Axes>"
      ]
     },
     "metadata": {
      "needs_background": "light"
     },
     "output_type": "display_data"
    },
    {
     "data": {
      "image/png": "[encoded data removed]",
      "text/plain": [
       "<Figure size 432x288 with 1 Axes>"
      ]
     },
     "metadata": {
      "needs_background": "light"
     },
     "output_type": "display_data"
    },
    {
     "data": {
      "image/png": "[encoded data removed]",
      "text/plain": [
       "<Figure size 432x288 with 1 Axes>"
      ]
     },
     "metadata": {
      "needs_background": "light"
     },
     "output_type": "display_data"
    }
   ],
   "source": [
    "for bspec in ['B+','B0','B0s']: \n",
    "  ax = dfs_B[bspec].plot.barh(stacked=True,colormap='PiYG')\n",
    "  lgd = ax.legend(loc='center left', bbox_to_anchor=(1, 0.5))\n",
    "  ax.set_title('Channel Commposition for {}'.format(bspec))\n",
    "  ax.figure.savefig('channelComp_{}.png'.format(bspec),bbox_extra_artists=(lgd,), bbox_inches='tight')\n",
    "  ax.figure.savefig('channelComp_{}.pdf'.format(bspec),bbox_extra_artists=(lgd,), bbox_inches='tight')"
   ]
  },
  {
   "cell_type": "code",
   "execution_count": null,
   "id": "762fcd6c-8f08-4fa3-9989-3be2ff47865d",
   "metadata": {},
   "outputs": [],
   "source": []
  },
  {
   "cell_type": "code",
   "execution_count": null,
   "id": "2c9c74d5-7ed7-447d-9104-31942427f340",
   "metadata": {},
   "outputs": [],
   "source": []
  }
 ],
 "metadata": {
  "kernelspec": {
   "display_name": "Python 3 (ipykernel)",
   "language": "python",
   "name": "python3"
  },
  "language_info": {
   "codemirror_mode": {
    "name": "ipython",
    "version": 3
   },
   "file_extension": ".py",
   "mimetype": "text/x-python",
   "name": "python",
   "nbconvert_exporter": "python",
   "pygments_lexer": "ipython3",
   "version": "3.8.10"
  }
 },
 "nbformat": 4,
 "nbformat_minor": 5
}
